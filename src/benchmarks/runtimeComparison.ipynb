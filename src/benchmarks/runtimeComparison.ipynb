{
 "cells": [
  {
   "cell_type": "code",
   "execution_count": null,
   "metadata": {},
   "outputs": [],
   "source": [
    "import numpy as np\n",
    "import time\n",
    "from skimage.segmentation import chan_vese\n",
    "import tqdm\n",
    "from tifffile import imread\n",
    "from skimage.transform import resize\n",
    "\n",
    "img = imread(\"/mnt/d/d1/AB-TGF/15_D6.tif\")\n",
    "\n",
    "sizes = [\n",
    "    (32, 32),\n",
    "    (64, 64),\n",
    "    (128, 128),\n",
    "    (256, 256)\n",
    "]\n",
    "\n",
    "def segment(a: np.array):\n",
    "    return chan_vese(a, mu=0.05, lambda1=1, lambda2=1.3, tol=1e-3, max_num_iter=100, dt=0.5, init_level_set=\"checkerboard\")\n",
    "\n",
    "num_runs = 10\n",
    "results = {}\n",
    "\n",
    "# Resize all slices once for each size\n",
    "for size in sizes:\n",
    "    times = []\n",
    "\n",
    "    # Resize each slice in the image to the target size\n",
    "    resized_img = np.zeros((img.shape[0], size[0], size[1]), dtype=np.float32)\n",
    "    for i in range(img.shape[0]):\n",
    "        resized_img[i, :, :] = resize(img[i, :, :], size, anti_aliasing=True)\n",
    "    \n",
    "    for _ in tqdm.tqdm(range(num_runs)):\n",
    "        start = time.time()\n",
    "        for i in range(resized_img.shape[0]):\n",
    "            segment(resized_img[i,:,:])  # Segment the resized image\n",
    "        end = time.time()\n",
    "        times.append(end - start)\n",
    "    \n",
    "    median_time = np.median(times)\n",
    "    std_time = np.std(times)\n",
    "    mean_time = np.mean(times)\n",
    "    results[size] = (median_time, std_time, mean_time)\n",
    "\n",
    "for size, (median_time, std_time, mean_time) in results.items():\n",
    "    print(f\"Size {size}: Median Time = {median_time:.4f}s, Std Dev = {std_time:.4f}s, Mean = {mean_time:.4f}\")\n"
   ]
  },
  {
   "cell_type": "code",
   "execution_count": 21,
   "metadata": {},
   "outputs": [
    {
     "name": "stderr",
     "output_type": "stream",
     "text": [
      "100%|██████████| 100/100 [05:11<00:00,  3.11s/it]"
     ]
    },
    {
     "name": "stdout",
     "output_type": "stream",
     "text": [
      "Size (256, 256): Median Time = 3.2020s, Std Dev = 0.3842s, Mean = 3.1096\n"
     ]
    },
    {
     "name": "stderr",
     "output_type": "stream",
     "text": [
      "\n"
     ]
    }
   ],
   "source": [
    "import numpy as np\n",
    "import time\n",
    "from skimage.segmentation import chan_vese\n",
    "import tqdm\n",
    "from tifffile import imread\n",
    "from skimage.transform import resize\n",
    "import multiprocessing\n",
    "\n",
    "img = imread(\"/mnt/d/d1/AB-TGF/15_D6.tif\")\n",
    "\n",
    "sizes = [\n",
    "    # (32, 32),\n",
    "    # (64, 64),\n",
    "    # (128, 128),\n",
    "    (256, 256)\n",
    "]\n",
    "\n",
    "def segment(a: np.array):\n",
    "    return chan_vese(a, mu=0.05, lambda1=1, lambda2=1.3, tol=1e-3, max_num_iter=100, dt=0.5, init_level_set=\"checkerboard\")\n",
    "\n",
    "def segment_image(slice_img):\n",
    "    return segment(slice_img)\n",
    "\n",
    "num_runs = 100\n",
    "results = {}\n",
    "\n",
    "# Resize all slices once for each size\n",
    "for size in sizes:\n",
    "    times = []\n",
    "\n",
    "    # Resize each slice in the image to the target size\n",
    "    resized_img = np.zeros((img.shape[0], size[0], size[1]), dtype=np.float32)\n",
    "    for i in range(img.shape[0]):\n",
    "        resized_img[i, :, :] = resize(img[i, :, :], size, anti_aliasing=True)\n",
    "    \n",
    "    for _ in tqdm.tqdm(range(num_runs)):\n",
    "        start = time.time()\n",
    "        \n",
    "        # Use multiprocessing to process slices in parallel\n",
    "        with multiprocessing.Pool() as pool:\n",
    "            pool.map(segment_image, resized_img)  # Process all slices in parallel\n",
    "        \n",
    "        end = time.time()\n",
    "        times.append(end - start)\n",
    "    \n",
    "    median_time = np.median(times)\n",
    "    std_time = np.std(times)\n",
    "    mean_time = np.mean(times)\n",
    "    results[size] = (median_time, std_time, mean_time)\n",
    "\n",
    "for size, (median_time, std_time, mean_time) in results.items():\n",
    "    print(f\"Size {size}: Median Time = {median_time:.4f}s, Std Dev = {std_time:.4f}s, Mean = {mean_time:.4f}\")\n"
   ]
  }
 ],
 "metadata": {
  "kernelspec": {
   "display_name": "torch",
   "language": "python",
   "name": "python3"
  },
  "language_info": {
   "codemirror_mode": {
    "name": "ipython",
    "version": 3
   },
   "file_extension": ".py",
   "mimetype": "text/x-python",
   "name": "python",
   "nbconvert_exporter": "python",
   "pygments_lexer": "ipython3",
   "version": "3.12.8"
  }
 },
 "nbformat": 4,
 "nbformat_minor": 2
}
